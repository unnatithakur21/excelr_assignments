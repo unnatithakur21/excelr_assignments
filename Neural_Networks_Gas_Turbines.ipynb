{
 "cells": [
  {
   "cell_type": "code",
   "execution_count": null,
   "metadata": {},
   "outputs": [],
   "source": [
    "!pip install keras\n",
    "!pip install tensorflow"
   ]
  },
  {
   "cell_type": "code",
   "execution_count": 1,
   "metadata": {},
   "outputs": [],
   "source": [
    "from keras.models import Sequential\n",
    "from keras.layers import Dense\n",
    "import numpy as np\n",
    "import numpy\n",
    "import pandas as pd"
   ]
  },
  {
   "cell_type": "code",
   "execution_count": 2,
   "metadata": {},
   "outputs": [
    {
     "data": {
      "text/html": [
       "<div>\n",
       "<style scoped>\n",
       "    .dataframe tbody tr th:only-of-type {\n",
       "        vertical-align: middle;\n",
       "    }\n",
       "\n",
       "    .dataframe tbody tr th {\n",
       "        vertical-align: top;\n",
       "    }\n",
       "\n",
       "    .dataframe thead th {\n",
       "        text-align: right;\n",
       "    }\n",
       "</style>\n",
       "<table border=\"1\" class=\"dataframe\">\n",
       "  <thead>\n",
       "    <tr style=\"text-align: right;\">\n",
       "      <th></th>\n",
       "      <th>AT</th>\n",
       "      <th>AP</th>\n",
       "      <th>AH</th>\n",
       "      <th>AFDP</th>\n",
       "      <th>GTEP</th>\n",
       "      <th>TIT</th>\n",
       "      <th>TAT</th>\n",
       "      <th>TEY</th>\n",
       "      <th>CDP</th>\n",
       "      <th>CO</th>\n",
       "      <th>NOX</th>\n",
       "    </tr>\n",
       "  </thead>\n",
       "  <tbody>\n",
       "    <tr>\n",
       "      <th>0</th>\n",
       "      <td>6.8594</td>\n",
       "      <td>1007.9</td>\n",
       "      <td>96.799</td>\n",
       "      <td>3.5000</td>\n",
       "      <td>19.663</td>\n",
       "      <td>1059.2</td>\n",
       "      <td>550.00</td>\n",
       "      <td>114.70</td>\n",
       "      <td>10.605</td>\n",
       "      <td>3.1547</td>\n",
       "      <td>82.722</td>\n",
       "    </tr>\n",
       "    <tr>\n",
       "      <th>1</th>\n",
       "      <td>6.7850</td>\n",
       "      <td>1008.4</td>\n",
       "      <td>97.118</td>\n",
       "      <td>3.4998</td>\n",
       "      <td>19.728</td>\n",
       "      <td>1059.3</td>\n",
       "      <td>550.00</td>\n",
       "      <td>114.72</td>\n",
       "      <td>10.598</td>\n",
       "      <td>3.2363</td>\n",
       "      <td>82.776</td>\n",
       "    </tr>\n",
       "    <tr>\n",
       "      <th>2</th>\n",
       "      <td>6.8977</td>\n",
       "      <td>1008.8</td>\n",
       "      <td>95.939</td>\n",
       "      <td>3.4824</td>\n",
       "      <td>19.779</td>\n",
       "      <td>1059.4</td>\n",
       "      <td>549.87</td>\n",
       "      <td>114.71</td>\n",
       "      <td>10.601</td>\n",
       "      <td>3.2012</td>\n",
       "      <td>82.468</td>\n",
       "    </tr>\n",
       "    <tr>\n",
       "      <th>3</th>\n",
       "      <td>7.0569</td>\n",
       "      <td>1009.2</td>\n",
       "      <td>95.249</td>\n",
       "      <td>3.4805</td>\n",
       "      <td>19.792</td>\n",
       "      <td>1059.6</td>\n",
       "      <td>549.99</td>\n",
       "      <td>114.72</td>\n",
       "      <td>10.606</td>\n",
       "      <td>3.1923</td>\n",
       "      <td>82.670</td>\n",
       "    </tr>\n",
       "    <tr>\n",
       "      <th>4</th>\n",
       "      <td>7.3978</td>\n",
       "      <td>1009.7</td>\n",
       "      <td>95.150</td>\n",
       "      <td>3.4976</td>\n",
       "      <td>19.765</td>\n",
       "      <td>1059.7</td>\n",
       "      <td>549.98</td>\n",
       "      <td>114.72</td>\n",
       "      <td>10.612</td>\n",
       "      <td>3.2484</td>\n",
       "      <td>82.311</td>\n",
       "    </tr>\n",
       "  </tbody>\n",
       "</table>\n",
       "</div>"
      ],
      "text/plain": [
       "       AT      AP      AH    AFDP    GTEP     TIT     TAT     TEY     CDP  \\\n",
       "0  6.8594  1007.9  96.799  3.5000  19.663  1059.2  550.00  114.70  10.605   \n",
       "1  6.7850  1008.4  97.118  3.4998  19.728  1059.3  550.00  114.72  10.598   \n",
       "2  6.8977  1008.8  95.939  3.4824  19.779  1059.4  549.87  114.71  10.601   \n",
       "3  7.0569  1009.2  95.249  3.4805  19.792  1059.6  549.99  114.72  10.606   \n",
       "4  7.3978  1009.7  95.150  3.4976  19.765  1059.7  549.98  114.72  10.612   \n",
       "\n",
       "       CO     NOX  \n",
       "0  3.1547  82.722  \n",
       "1  3.2363  82.776  \n",
       "2  3.2012  82.468  \n",
       "3  3.1923  82.670  \n",
       "4  3.2484  82.311  "
      ]
     },
     "execution_count": 2,
     "metadata": {},
     "output_type": "execute_result"
    }
   ],
   "source": [
    "data=pd.read_csv(\"C:/Users/krishna/Downloads/gas_turbines.csv\")\n",
    "data.head()"
   ]
  },
  {
   "cell_type": "code",
   "execution_count": 5,
   "metadata": {},
   "outputs": [
    {
     "name": "stdout",
     "output_type": "stream",
     "text": [
      "<class 'pandas.core.frame.DataFrame'>\n",
      "RangeIndex: 15039 entries, 0 to 15038\n",
      "Data columns (total 11 columns):\n",
      " #   Column  Non-Null Count  Dtype  \n",
      "---  ------  --------------  -----  \n",
      " 0   AT      15039 non-null  float64\n",
      " 1   AP      15039 non-null  float64\n",
      " 2   AH      15039 non-null  float64\n",
      " 3   AFDP    15039 non-null  float64\n",
      " 4   GTEP    15039 non-null  float64\n",
      " 5   TIT     15039 non-null  float64\n",
      " 6   TAT     15039 non-null  float64\n",
      " 7   TEY     15039 non-null  float64\n",
      " 8   CDP     15039 non-null  float64\n",
      " 9   CO      15039 non-null  float64\n",
      " 10  NOX     15039 non-null  float64\n",
      "dtypes: float64(11)\n",
      "memory usage: 1.3 MB\n"
     ]
    }
   ],
   "source": [
    "data.info()"
   ]
  },
  {
   "cell_type": "code",
   "execution_count": 6,
   "metadata": {},
   "outputs": [
    {
     "data": {
      "text/html": [
       "<div>\n",
       "<style scoped>\n",
       "    .dataframe tbody tr th:only-of-type {\n",
       "        vertical-align: middle;\n",
       "    }\n",
       "\n",
       "    .dataframe tbody tr th {\n",
       "        vertical-align: top;\n",
       "    }\n",
       "\n",
       "    .dataframe thead th {\n",
       "        text-align: right;\n",
       "    }\n",
       "</style>\n",
       "<table border=\"1\" class=\"dataframe\">\n",
       "  <thead>\n",
       "    <tr style=\"text-align: right;\">\n",
       "      <th></th>\n",
       "      <th>AT</th>\n",
       "      <th>AP</th>\n",
       "      <th>AH</th>\n",
       "      <th>AFDP</th>\n",
       "      <th>GTEP</th>\n",
       "      <th>TIT</th>\n",
       "      <th>TAT</th>\n",
       "      <th>TEY</th>\n",
       "      <th>CDP</th>\n",
       "      <th>CO</th>\n",
       "      <th>NOX</th>\n",
       "    </tr>\n",
       "  </thead>\n",
       "  <tbody>\n",
       "    <tr>\n",
       "      <th>count</th>\n",
       "      <td>15039.000000</td>\n",
       "      <td>15039.00000</td>\n",
       "      <td>15039.000000</td>\n",
       "      <td>15039.000000</td>\n",
       "      <td>15039.000000</td>\n",
       "      <td>15039.000000</td>\n",
       "      <td>15039.000000</td>\n",
       "      <td>15039.000000</td>\n",
       "      <td>15039.000000</td>\n",
       "      <td>15039.000000</td>\n",
       "      <td>15039.000000</td>\n",
       "    </tr>\n",
       "    <tr>\n",
       "      <th>mean</th>\n",
       "      <td>17.764381</td>\n",
       "      <td>1013.19924</td>\n",
       "      <td>79.124174</td>\n",
       "      <td>4.200294</td>\n",
       "      <td>25.419061</td>\n",
       "      <td>1083.798770</td>\n",
       "      <td>545.396183</td>\n",
       "      <td>134.188464</td>\n",
       "      <td>12.102353</td>\n",
       "      <td>1.972499</td>\n",
       "      <td>68.190934</td>\n",
       "    </tr>\n",
       "    <tr>\n",
       "      <th>std</th>\n",
       "      <td>7.574323</td>\n",
       "      <td>6.41076</td>\n",
       "      <td>13.793439</td>\n",
       "      <td>0.760197</td>\n",
       "      <td>4.173916</td>\n",
       "      <td>16.527806</td>\n",
       "      <td>7.866803</td>\n",
       "      <td>15.829717</td>\n",
       "      <td>1.103196</td>\n",
       "      <td>2.222206</td>\n",
       "      <td>10.470586</td>\n",
       "    </tr>\n",
       "    <tr>\n",
       "      <th>min</th>\n",
       "      <td>0.522300</td>\n",
       "      <td>985.85000</td>\n",
       "      <td>30.344000</td>\n",
       "      <td>2.087400</td>\n",
       "      <td>17.878000</td>\n",
       "      <td>1000.800000</td>\n",
       "      <td>512.450000</td>\n",
       "      <td>100.170000</td>\n",
       "      <td>9.904400</td>\n",
       "      <td>0.000388</td>\n",
       "      <td>27.765000</td>\n",
       "    </tr>\n",
       "    <tr>\n",
       "      <th>25%</th>\n",
       "      <td>11.408000</td>\n",
       "      <td>1008.90000</td>\n",
       "      <td>69.750000</td>\n",
       "      <td>3.723900</td>\n",
       "      <td>23.294000</td>\n",
       "      <td>1079.600000</td>\n",
       "      <td>542.170000</td>\n",
       "      <td>127.985000</td>\n",
       "      <td>11.622000</td>\n",
       "      <td>0.858055</td>\n",
       "      <td>61.303500</td>\n",
       "    </tr>\n",
       "    <tr>\n",
       "      <th>50%</th>\n",
       "      <td>18.186000</td>\n",
       "      <td>1012.80000</td>\n",
       "      <td>82.266000</td>\n",
       "      <td>4.186200</td>\n",
       "      <td>25.082000</td>\n",
       "      <td>1088.700000</td>\n",
       "      <td>549.890000</td>\n",
       "      <td>133.780000</td>\n",
       "      <td>12.025000</td>\n",
       "      <td>1.390200</td>\n",
       "      <td>66.601000</td>\n",
       "    </tr>\n",
       "    <tr>\n",
       "      <th>75%</th>\n",
       "      <td>23.862500</td>\n",
       "      <td>1016.90000</td>\n",
       "      <td>90.043500</td>\n",
       "      <td>4.550900</td>\n",
       "      <td>27.184000</td>\n",
       "      <td>1096.000000</td>\n",
       "      <td>550.060000</td>\n",
       "      <td>140.895000</td>\n",
       "      <td>12.578000</td>\n",
       "      <td>2.160400</td>\n",
       "      <td>73.935500</td>\n",
       "    </tr>\n",
       "    <tr>\n",
       "      <th>max</th>\n",
       "      <td>34.929000</td>\n",
       "      <td>1034.20000</td>\n",
       "      <td>100.200000</td>\n",
       "      <td>7.610600</td>\n",
       "      <td>37.402000</td>\n",
       "      <td>1100.800000</td>\n",
       "      <td>550.610000</td>\n",
       "      <td>174.610000</td>\n",
       "      <td>15.081000</td>\n",
       "      <td>44.103000</td>\n",
       "      <td>119.890000</td>\n",
       "    </tr>\n",
       "  </tbody>\n",
       "</table>\n",
       "</div>"
      ],
      "text/plain": [
       "                 AT           AP            AH          AFDP          GTEP  \\\n",
       "count  15039.000000  15039.00000  15039.000000  15039.000000  15039.000000   \n",
       "mean      17.764381   1013.19924     79.124174      4.200294     25.419061   \n",
       "std        7.574323      6.41076     13.793439      0.760197      4.173916   \n",
       "min        0.522300    985.85000     30.344000      2.087400     17.878000   \n",
       "25%       11.408000   1008.90000     69.750000      3.723900     23.294000   \n",
       "50%       18.186000   1012.80000     82.266000      4.186200     25.082000   \n",
       "75%       23.862500   1016.90000     90.043500      4.550900     27.184000   \n",
       "max       34.929000   1034.20000    100.200000      7.610600     37.402000   \n",
       "\n",
       "                TIT           TAT           TEY           CDP            CO  \\\n",
       "count  15039.000000  15039.000000  15039.000000  15039.000000  15039.000000   \n",
       "mean    1083.798770    545.396183    134.188464     12.102353      1.972499   \n",
       "std       16.527806      7.866803     15.829717      1.103196      2.222206   \n",
       "min     1000.800000    512.450000    100.170000      9.904400      0.000388   \n",
       "25%     1079.600000    542.170000    127.985000     11.622000      0.858055   \n",
       "50%     1088.700000    549.890000    133.780000     12.025000      1.390200   \n",
       "75%     1096.000000    550.060000    140.895000     12.578000      2.160400   \n",
       "max     1100.800000    550.610000    174.610000     15.081000     44.103000   \n",
       "\n",
       "                NOX  \n",
       "count  15039.000000  \n",
       "mean      68.190934  \n",
       "std       10.470586  \n",
       "min       27.765000  \n",
       "25%       61.303500  \n",
       "50%       66.601000  \n",
       "75%       73.935500  \n",
       "max      119.890000  "
      ]
     },
     "execution_count": 6,
     "metadata": {},
     "output_type": "execute_result"
    }
   ],
   "source": [
    "data.describe()"
   ]
  },
  {
   "cell_type": "code",
   "execution_count": 3,
   "metadata": {},
   "outputs": [
    {
     "data": {
      "text/plain": [
       "(15039, 11)"
      ]
     },
     "execution_count": 3,
     "metadata": {},
     "output_type": "execute_result"
    }
   ],
   "source": [
    "data.shape"
   ]
  },
  {
   "cell_type": "code",
   "execution_count": 4,
   "metadata": {},
   "outputs": [
    {
     "data": {
      "text/plain": [
       "AT      0\n",
       "AP      0\n",
       "AH      0\n",
       "AFDP    0\n",
       "GTEP    0\n",
       "TIT     0\n",
       "TAT     0\n",
       "TEY     0\n",
       "CDP     0\n",
       "CO      0\n",
       "NOX     0\n",
       "dtype: int64"
      ]
     },
     "execution_count": 4,
     "metadata": {},
     "output_type": "execute_result"
    }
   ],
   "source": [
    "data.isnull().sum()"
   ]
  },
  {
   "cell_type": "code",
   "execution_count": 8,
   "metadata": {},
   "outputs": [
    {
     "data": {
      "text/plain": [
       "<AxesSubplot:>"
      ]
     },
     "execution_count": 8,
     "metadata": {},
     "output_type": "execute_result"
    },
    {
     "data": {
      "image/png": "[encoded data removed]",
      "text/plain": [
       "<Figure size 864x576 with 2 Axes>"
      ]
     },
     "metadata": {
      "needs_background": "light"
     },
     "output_type": "display_data"
    }
   ],
   "source": [
    "#correlation matrix\n",
    "import seaborn as sns\n",
    "import matplotlib.pyplot as plt\n",
    "plt.figure(figsize=(12,8))\n",
    "cor = data.corr()\n",
    "sns.heatmap(cor, annot=True, cmap= plt.cm.CMRmap_r)"
   ]
  },
  {
   "cell_type": "markdown",
   "metadata": {},
   "source": [
    "# Visualization"
   ]
  },
  {
   "cell_type": "code",
   "execution_count": 13,
   "metadata": {},
   "outputs": [
    {
     "data": {
      "image/png": "[encoded data removed]",
      "text/plain": [
       "<Figure size 720x576 with 1 Axes>"
      ]
     },
     "metadata": {
      "needs_background": "light"
     },
     "output_type": "display_data"
    }
   ],
   "source": [
    "plt.figure(figsize=(10,8))\n",
    "plt.boxplot(data.TEY)\n",
    "plt.show()"
   ]
  },
  {
   "cell_type": "code",
   "execution_count": 14,
   "metadata": {},
   "outputs": [
    {
     "data": {
      "text/plain": [
       "<AxesSubplot:>"
      ]
     },
     "execution_count": 14,
     "metadata": {},
     "output_type": "execute_result"
    },
    {
     "data": {
      "image/png": "[encoded data removed]",
      "text/plain": [
       "<Figure size 432x288 with 1 Axes>"
      ]
     },
     "metadata": {
      "needs_background": "light"
     },
     "output_type": "display_data"
    }
   ],
   "source": [
    "data.AP.hist()"
   ]
  },
  {
   "cell_type": "code",
   "execution_count": 15,
   "metadata": {},
   "outputs": [
    {
     "data": {
      "text/plain": [
       "<AxesSubplot:>"
      ]
     },
     "execution_count": 15,
     "metadata": {},
     "output_type": "execute_result"
    },
    {
     "data": {
      "image/png": "[encoded data removed]",
      "text/plain": [
       "<Figure size 432x288 with 1 Axes>"
      ]
     },
     "metadata": {
      "needs_background": "light"
     },
     "output_type": "display_data"
    }
   ],
   "source": [
    "data.GTEP.hist()"
   ]
  },
  {
   "cell_type": "code",
   "execution_count": 16,
   "metadata": {},
   "outputs": [
    {
     "data": {
      "text/plain": [
       "<AxesSubplot:>"
      ]
     },
     "execution_count": 16,
     "metadata": {},
     "output_type": "execute_result"
    },
    {
     "data": {
      "image/png": "[encoded data removed]",
      "text/plain": [
       "<Figure size 432x288 with 1 Axes>"
      ]
     },
     "metadata": {
      "needs_background": "light"
     },
     "output_type": "display_data"
    }
   ],
   "source": [
    "data.CDP.hist()"
   ]
  },
  {
   "cell_type": "code",
   "execution_count": 17,
   "metadata": {},
   "outputs": [
    {
     "data": {
      "text/plain": [
       "<AxesSubplot:xlabel='TEY', ylabel='AP'>"
      ]
     },
     "execution_count": 17,
     "metadata": {},
     "output_type": "execute_result"
    },
    {
     "data": {
      "image/png": "[encoded data removed]",
      "text/plain": [
       "<Figure size 432x288 with 1 Axes>"
      ]
     },
     "metadata": {
      "needs_background": "light"
     },
     "output_type": "display_data"
    }
   ],
   "source": [
    "sns.scatterplot(x='TEY', y='AP',data=data)"
   ]
  },
  {
   "cell_type": "code",
   "execution_count": 18,
   "metadata": {},
   "outputs": [],
   "source": [
    "X = data.drop('TEY', axis=1)\n",
    "Y = data.TEY"
   ]
  },
  {
   "cell_type": "code",
   "execution_count": 27,
   "metadata": {},
   "outputs": [
    {
     "data": {
      "text/html": [
       "<div>\n",
       "<style scoped>\n",
       "    .dataframe tbody tr th:only-of-type {\n",
       "        vertical-align: middle;\n",
       "    }\n",
       "\n",
       "    .dataframe tbody tr th {\n",
       "        vertical-align: top;\n",
       "    }\n",
       "\n",
       "    .dataframe thead th {\n",
       "        text-align: right;\n",
       "    }\n",
       "</style>\n",
       "<table border=\"1\" class=\"dataframe\">\n",
       "  <thead>\n",
       "    <tr style=\"text-align: right;\">\n",
       "      <th></th>\n",
       "      <th>AT</th>\n",
       "      <th>AP</th>\n",
       "      <th>AH</th>\n",
       "      <th>AFDP</th>\n",
       "      <th>GTEP</th>\n",
       "      <th>TIT</th>\n",
       "      <th>TAT</th>\n",
       "      <th>CDP</th>\n",
       "      <th>CO</th>\n",
       "      <th>NOX</th>\n",
       "    </tr>\n",
       "  </thead>\n",
       "  <tbody>\n",
       "    <tr>\n",
       "      <th>0</th>\n",
       "      <td>6.8594</td>\n",
       "      <td>1007.9</td>\n",
       "      <td>96.799</td>\n",
       "      <td>3.5000</td>\n",
       "      <td>19.663</td>\n",
       "      <td>1059.2</td>\n",
       "      <td>550.00</td>\n",
       "      <td>10.605</td>\n",
       "      <td>3.1547</td>\n",
       "      <td>82.722</td>\n",
       "    </tr>\n",
       "    <tr>\n",
       "      <th>1</th>\n",
       "      <td>6.7850</td>\n",
       "      <td>1008.4</td>\n",
       "      <td>97.118</td>\n",
       "      <td>3.4998</td>\n",
       "      <td>19.728</td>\n",
       "      <td>1059.3</td>\n",
       "      <td>550.00</td>\n",
       "      <td>10.598</td>\n",
       "      <td>3.2363</td>\n",
       "      <td>82.776</td>\n",
       "    </tr>\n",
       "    <tr>\n",
       "      <th>2</th>\n",
       "      <td>6.8977</td>\n",
       "      <td>1008.8</td>\n",
       "      <td>95.939</td>\n",
       "      <td>3.4824</td>\n",
       "      <td>19.779</td>\n",
       "      <td>1059.4</td>\n",
       "      <td>549.87</td>\n",
       "      <td>10.601</td>\n",
       "      <td>3.2012</td>\n",
       "      <td>82.468</td>\n",
       "    </tr>\n",
       "    <tr>\n",
       "      <th>3</th>\n",
       "      <td>7.0569</td>\n",
       "      <td>1009.2</td>\n",
       "      <td>95.249</td>\n",
       "      <td>3.4805</td>\n",
       "      <td>19.792</td>\n",
       "      <td>1059.6</td>\n",
       "      <td>549.99</td>\n",
       "      <td>10.606</td>\n",
       "      <td>3.1923</td>\n",
       "      <td>82.670</td>\n",
       "    </tr>\n",
       "    <tr>\n",
       "      <th>4</th>\n",
       "      <td>7.3978</td>\n",
       "      <td>1009.7</td>\n",
       "      <td>95.150</td>\n",
       "      <td>3.4976</td>\n",
       "      <td>19.765</td>\n",
       "      <td>1059.7</td>\n",
       "      <td>549.98</td>\n",
       "      <td>10.612</td>\n",
       "      <td>3.2484</td>\n",
       "      <td>82.311</td>\n",
       "    </tr>\n",
       "    <tr>\n",
       "      <th>...</th>\n",
       "      <td>...</td>\n",
       "      <td>...</td>\n",
       "      <td>...</td>\n",
       "      <td>...</td>\n",
       "      <td>...</td>\n",
       "      <td>...</td>\n",
       "      <td>...</td>\n",
       "      <td>...</td>\n",
       "      <td>...</td>\n",
       "      <td>...</td>\n",
       "    </tr>\n",
       "    <tr>\n",
       "      <th>15034</th>\n",
       "      <td>9.0301</td>\n",
       "      <td>1005.6</td>\n",
       "      <td>98.460</td>\n",
       "      <td>3.5421</td>\n",
       "      <td>19.164</td>\n",
       "      <td>1049.7</td>\n",
       "      <td>546.21</td>\n",
       "      <td>10.400</td>\n",
       "      <td>4.5186</td>\n",
       "      <td>79.559</td>\n",
       "    </tr>\n",
       "    <tr>\n",
       "      <th>15035</th>\n",
       "      <td>7.8879</td>\n",
       "      <td>1005.9</td>\n",
       "      <td>99.093</td>\n",
       "      <td>3.5059</td>\n",
       "      <td>19.414</td>\n",
       "      <td>1046.3</td>\n",
       "      <td>543.22</td>\n",
       "      <td>10.433</td>\n",
       "      <td>4.8470</td>\n",
       "      <td>79.917</td>\n",
       "    </tr>\n",
       "    <tr>\n",
       "      <th>15036</th>\n",
       "      <td>7.2647</td>\n",
       "      <td>1006.3</td>\n",
       "      <td>99.496</td>\n",
       "      <td>3.4770</td>\n",
       "      <td>19.530</td>\n",
       "      <td>1037.7</td>\n",
       "      <td>537.32</td>\n",
       "      <td>10.483</td>\n",
       "      <td>7.9632</td>\n",
       "      <td>90.912</td>\n",
       "    </tr>\n",
       "    <tr>\n",
       "      <th>15037</th>\n",
       "      <td>7.0060</td>\n",
       "      <td>1006.8</td>\n",
       "      <td>99.008</td>\n",
       "      <td>3.4486</td>\n",
       "      <td>19.377</td>\n",
       "      <td>1043.2</td>\n",
       "      <td>541.24</td>\n",
       "      <td>10.533</td>\n",
       "      <td>6.2494</td>\n",
       "      <td>93.227</td>\n",
       "    </tr>\n",
       "    <tr>\n",
       "      <th>15038</th>\n",
       "      <td>6.9279</td>\n",
       "      <td>1007.2</td>\n",
       "      <td>97.533</td>\n",
       "      <td>3.4275</td>\n",
       "      <td>19.306</td>\n",
       "      <td>1049.9</td>\n",
       "      <td>545.85</td>\n",
       "      <td>10.583</td>\n",
       "      <td>4.9816</td>\n",
       "      <td>92.498</td>\n",
       "    </tr>\n",
       "  </tbody>\n",
       "</table>\n",
       "<p>15039 rows × 10 columns</p>\n",
       "</div>"
      ],
      "text/plain": [
       "           AT      AP      AH    AFDP    GTEP     TIT     TAT     CDP      CO  \\\n",
       "0      6.8594  1007.9  96.799  3.5000  19.663  1059.2  550.00  10.605  3.1547   \n",
       "1      6.7850  1008.4  97.118  3.4998  19.728  1059.3  550.00  10.598  3.2363   \n",
       "2      6.8977  1008.8  95.939  3.4824  19.779  1059.4  549.87  10.601  3.2012   \n",
       "3      7.0569  1009.2  95.249  3.4805  19.792  1059.6  549.99  10.606  3.1923   \n",
       "4      7.3978  1009.7  95.150  3.4976  19.765  1059.7  549.98  10.612  3.2484   \n",
       "...       ...     ...     ...     ...     ...     ...     ...     ...     ...   \n",
       "15034  9.0301  1005.6  98.460  3.5421  19.164  1049.7  546.21  10.400  4.5186   \n",
       "15035  7.8879  1005.9  99.093  3.5059  19.414  1046.3  543.22  10.433  4.8470   \n",
       "15036  7.2647  1006.3  99.496  3.4770  19.530  1037.7  537.32  10.483  7.9632   \n",
       "15037  7.0060  1006.8  99.008  3.4486  19.377  1043.2  541.24  10.533  6.2494   \n",
       "15038  6.9279  1007.2  97.533  3.4275  19.306  1049.9  545.85  10.583  4.9816   \n",
       "\n",
       "          NOX  \n",
       "0      82.722  \n",
       "1      82.776  \n",
       "2      82.468  \n",
       "3      82.670  \n",
       "4      82.311  \n",
       "...       ...  \n",
       "15034  79.559  \n",
       "15035  79.917  \n",
       "15036  90.912  \n",
       "15037  93.227  \n",
       "15038  92.498  \n",
       "\n",
       "[15039 rows x 10 columns]"
      ]
     },
     "execution_count": 27,
     "metadata": {},
     "output_type": "execute_result"
    }
   ],
   "source": [
    "X"
   ]
  },
  {
   "cell_type": "markdown",
   "metadata": {},
   "source": [
    "# Standardize the data"
   ]
  },
  {
   "cell_type": "code",
   "execution_count": 24,
   "metadata": {},
   "outputs": [
    {
     "data": {
      "text/plain": [
       "array([[-1.4397781 , -0.82664395,  1.28143632, ..., -1.35733078,\n",
       "         0.53201195,  1.3878449 ],\n",
       "       [-1.44960109, -0.74864748,  1.30456402, ..., -1.36367619,\n",
       "         0.56873344,  1.39300237],\n",
       "       [-1.43472138, -0.68625031,  1.21908576, ..., -1.36095673,\n",
       "         0.5529378 ,  1.36358566],\n",
       "       ...,\n",
       "       [-1.38626659, -1.07623263,  1.47697056, ..., -1.46792219,\n",
       "         2.69592467,  2.17006209],\n",
       "       [-1.42042259, -0.99823616,  1.44159024, ..., -1.42259784,\n",
       "         1.9246834 ,  2.391165  ],\n",
       "       [-1.43073409, -0.93583899,  1.33465179, ..., -1.37727349,\n",
       "         1.35415028,  2.32153907]])"
      ]
     },
     "execution_count": 24,
     "metadata": {},
     "output_type": "execute_result"
    }
   ],
   "source": [
    "from sklearn.preprocessing import StandardScaler\n",
    "scaler = StandardScaler()\n",
    "data1 = scaler.fit_transform(X)\n",
    "data1"
   ]
  },
  {
   "cell_type": "code",
   "execution_count": 25,
   "metadata": {},
   "outputs": [],
   "source": [
    "from sklearn.model_selection import train_test_split"
   ]
  },
  {
   "cell_type": "code",
   "execution_count": 26,
   "metadata": {},
   "outputs": [],
   "source": [
    "X_train, X_test, y_train, y_test = train_test_split(X,Y, test_size=0.3, random_state = 0)"
   ]
  },
  {
   "cell_type": "markdown",
   "metadata": {},
   "source": [
    "# build the model"
   ]
  },
  {
   "cell_type": "code",
   "execution_count": 28,
   "metadata": {},
   "outputs": [],
   "source": [
    "model = Sequential()\n",
    "model.add(Dense(12, input_dim=10, activation='relu'))\n",
    "model.add(Dense(8, activation='relu'))\n",
    "model.add(Dense(1, activation='linear'))"
   ]
  },
  {
   "cell_type": "code",
   "execution_count": 29,
   "metadata": {},
   "outputs": [],
   "source": [
    "# Compile model\n",
    "model.compile(loss='binary_crossentropy', optimizer='sgd', metrics=['accuracy'])"
   ]
  },
  {
   "cell_type": "code",
   "execution_count": 30,
   "metadata": {},
   "outputs": [
    {
     "name": "stdout",
     "output_type": "stream",
     "text": [
      "Epoch 1/100\n",
      "614/614 [==============================] - 32s 7ms/step - loss: -2029.3372 - accuracy: 0.0000e+00 - val_loss: -2035.8748 - val_accuracy: 0.0000e+00\n",
      "Epoch 2/100\n",
      "614/614 [==============================] - 2s 4ms/step - loss: -2034.3446 - accuracy: 0.0000e+00 - val_loss: -2035.8748 - val_accuracy: 0.0000e+00\n",
      "Epoch 3/100\n",
      "614/614 [==============================] - 2s 3ms/step - loss: -2028.5972 - accuracy: 0.0000e+00 - val_loss: -2035.8748 - val_accuracy: 0.0000e+00\n",
      "Epoch 4/100\n",
      "614/614 [==============================] - 2s 3ms/step - loss: -2030.5170 - accuracy: 0.0000e+00 - val_loss: -2035.8748 - val_accuracy: 0.0000e+00\n",
      "Epoch 5/100\n",
      "614/614 [==============================] - 2s 3ms/step - loss: -2031.8529 - accuracy: 0.0000e+00 - val_loss: -2035.8748 - val_accuracy: 0.0000e+00\n",
      "Epoch 6/100\n",
      "614/614 [==============================] - 2s 3ms/step - loss: -2038.8854 - accuracy: 0.0000e+00 - val_loss: -2035.8748 - val_accuracy: 0.0000e+00\n",
      "Epoch 7/100\n",
      "614/614 [==============================] - 2s 3ms/step - loss: -2027.5839 - accuracy: 0.0000e+00 - val_loss: -2035.8748 - val_accuracy: 0.0000e+00\n",
      "Epoch 8/100\n",
      "614/614 [==============================] - 2s 3ms/step - loss: -2033.4603 - accuracy: 0.0000e+00 - val_loss: -2035.8748 - val_accuracy: 0.0000e+00\n",
      "Epoch 9/100\n",
      "614/614 [==============================] - 2s 3ms/step - loss: -2032.0878 - accuracy: 0.0000e+00 - val_loss: -2035.8748 - val_accuracy: 0.0000e+00\n",
      "Epoch 10/100\n",
      "614/614 [==============================] - 2s 3ms/step - loss: -2035.5676 - accuracy: 0.0000e+00 - val_loss: -2035.8748 - val_accuracy: 0.0000e+00\n",
      "Epoch 11/100\n",
      "614/614 [==============================] - 2s 3ms/step - loss: -2033.4160 - accuracy: 0.0000e+00 - val_loss: -2035.8748 - val_accuracy: 0.0000e+00\n",
      "Epoch 12/100\n",
      "614/614 [==============================] - 2s 3ms/step - loss: -2027.2767 - accuracy: 0.0000e+00 - val_loss: -2035.8748 - val_accuracy: 0.0000e+00\n",
      "Epoch 13/100\n",
      "614/614 [==============================] - 2s 3ms/step - loss: -2030.9050 - accuracy: 0.0000e+00 - val_loss: -2035.8748 - val_accuracy: 0.0000e+00\n",
      "Epoch 14/100\n",
      "614/614 [==============================] - 2s 3ms/step - loss: -2031.5607 - accuracy: 0.0000e+00 - val_loss: -2035.8748 - val_accuracy: 0.0000e+00\n",
      "Epoch 15/100\n",
      "614/614 [==============================] - 2s 4ms/step - loss: -2029.1744 - accuracy: 0.0000e+00 - val_loss: -2035.8748 - val_accuracy: 0.0000e+00\n",
      "Epoch 16/100\n",
      "614/614 [==============================] - 2s 3ms/step - loss: -2026.5686 - accuracy: 0.0000e+00 - val_loss: -2035.8748 - val_accuracy: 0.0000e+00\n",
      "Epoch 17/100\n",
      "614/614 [==============================] - 2s 4ms/step - loss: -2029.8275 - accuracy: 0.0000e+00 - val_loss: -2035.8748 - val_accuracy: 0.0000e+00\n",
      "Epoch 18/100\n",
      "614/614 [==============================] - 2s 3ms/step - loss: -2033.4438 - accuracy: 0.0000e+00 - val_loss: -2035.8748 - val_accuracy: 0.0000e+00\n",
      "Epoch 19/100\n",
      "614/614 [==============================] - 2s 3ms/step - loss: -2029.7368 - accuracy: 0.0000e+00 - val_loss: -2035.8748 - val_accuracy: 0.0000e+00\n",
      "Epoch 20/100\n",
      "614/614 [==============================] - 3s 5ms/step - loss: -2030.6737 - accuracy: 0.0000e+00 - val_loss: -2035.8748 - val_accuracy: 0.0000e+00\n",
      "Epoch 21/100\n",
      "614/614 [==============================] - 2s 3ms/step - loss: -2031.7938 - accuracy: 0.0000e+00 - val_loss: -2035.8748 - val_accuracy: 0.0000e+00\n",
      "Epoch 22/100\n",
      "614/614 [==============================] - 2s 3ms/step - loss: -2027.9370 - accuracy: 0.0000e+00 - val_loss: -2035.8748 - val_accuracy: 0.0000e+00\n",
      "Epoch 23/100\n",
      "614/614 [==============================] - 2s 3ms/step - loss: -2028.4180 - accuracy: 0.0000e+00 - val_loss: -2035.8748 - val_accuracy: 0.0000e+00\n",
      "Epoch 24/100\n",
      "614/614 [==============================] - 2s 3ms/step - loss: -2032.6549 - accuracy: 0.0000e+00 - val_loss: -2035.8748 - val_accuracy: 0.0000e+00\n",
      "Epoch 25/100\n",
      "614/614 [==============================] - 3s 4ms/step - loss: -2030.5740 - accuracy: 0.0000e+00 - val_loss: -2035.8748 - val_accuracy: 0.0000e+00\n",
      "Epoch 26/100\n",
      "614/614 [==============================] - 3s 5ms/step - loss: -2028.1408 - accuracy: 0.0000e+00 - val_loss: -2035.8748 - val_accuracy: 0.0000e+00\n",
      "Epoch 27/100\n",
      "614/614 [==============================] - 2s 4ms/step - loss: -2030.6983 - accuracy: 0.0000e+00 - val_loss: -2035.8748 - val_accuracy: 0.0000e+00\n",
      "Epoch 28/100\n",
      "614/614 [==============================] - 2s 4ms/step - loss: -2033.9945 - accuracy: 0.0000e+00 - val_loss: -2035.8748 - val_accuracy: 0.0000e+00\n",
      "Epoch 29/100\n",
      "614/614 [==============================] - 2s 4ms/step - loss: -2029.8443 - accuracy: 0.0000e+00 - val_loss: -2035.8748 - val_accuracy: 0.0000e+00\n",
      "Epoch 30/100\n",
      "614/614 [==============================] - 2s 3ms/step - loss: -2032.1371 - accuracy: 0.0000e+00 - val_loss: -2035.8748 - val_accuracy: 0.0000e+00\n",
      "Epoch 31/100\n",
      "614/614 [==============================] - 2s 3ms/step - loss: -2029.3604 - accuracy: 0.0000e+00 - val_loss: -2035.8748 - val_accuracy: 0.0000e+00\n",
      "Epoch 32/100\n",
      "614/614 [==============================] - 3s 4ms/step - loss: -2033.5030 - accuracy: 0.0000e+00 - val_loss: -2035.8748 - val_accuracy: 0.0000e+00\n",
      "Epoch 33/100\n",
      "614/614 [==============================] - 2s 3ms/step - loss: -2028.1562 - accuracy: 0.0000e+00 - val_loss: -2035.8748 - val_accuracy: 0.0000e+00\n",
      "Epoch 34/100\n",
      "614/614 [==============================] - 2s 3ms/step - loss: -2030.8318 - accuracy: 0.0000e+00 - val_loss: -2035.8748 - val_accuracy: 0.0000e+00\n",
      "Epoch 35/100\n",
      "614/614 [==============================] - 2s 3ms/step - loss: -2029.3816 - accuracy: 0.0000e+00 - val_loss: -2035.8748 - val_accuracy: 0.0000e+00\n",
      "Epoch 36/100\n",
      "614/614 [==============================] - 3s 4ms/step - loss: -2030.2360 - accuracy: 0.0000e+00 - val_loss: -2035.8748 - val_accuracy: 0.0000e+00\n",
      "Epoch 37/100\n",
      "614/614 [==============================] - 2s 4ms/step - loss: -2032.8504 - accuracy: 0.0000e+00 - val_loss: -2035.8748 - val_accuracy: 0.0000e+00\n",
      "Epoch 38/100\n",
      "614/614 [==============================] - 3s 5ms/step - loss: -2030.3430 - accuracy: 0.0000e+00 - val_loss: -2035.8748 - val_accuracy: 0.0000e+00\n",
      "Epoch 39/100\n",
      "614/614 [==============================] - 2s 3ms/step - loss: -2033.9990 - accuracy: 0.0000e+00 - val_loss: -2035.8748 - val_accuracy: 0.0000e+00\n",
      "Epoch 40/100\n",
      "614/614 [==============================] - 1s 2ms/step - loss: -2029.7868 - accuracy: 0.0000e+00 - val_loss: -2035.8748 - val_accuracy: 0.0000e+00\n",
      "Epoch 41/100\n",
      "614/614 [==============================] - 2s 4ms/step - loss: -2031.0811 - accuracy: 0.0000e+00 - val_loss: -2035.8748 - val_accuracy: 0.0000e+00\n",
      "Epoch 42/100\n",
      "614/614 [==============================] - 3s 4ms/step - loss: -2030.4433 - accuracy: 0.0000e+00 - val_loss: -2035.8748 - val_accuracy: 0.0000e+00\n",
      "Epoch 43/100\n",
      "614/614 [==============================] - 3s 4ms/step - loss: -2033.4491 - accuracy: 0.0000e+00 - val_loss: -2035.8748 - val_accuracy: 0.0000e+00\n",
      "Epoch 44/100\n",
      "614/614 [==============================] - 3s 4ms/step - loss: -2033.4114 - accuracy: 0.0000e+00 - val_loss: -2035.8748 - val_accuracy: 0.0000e+00\n",
      "Epoch 45/100\n",
      "614/614 [==============================] - 3s 4ms/step - loss: -2029.1284 - accuracy: 0.0000e+00 - val_loss: -2035.8748 - val_accuracy: 0.0000e+00\n",
      "Epoch 46/100\n",
      "614/614 [==============================] - 3s 4ms/step - loss: -2030.5664 - accuracy: 0.0000e+00 - val_loss: -2035.8748 - val_accuracy: 0.0000e+00\n",
      "Epoch 47/100\n",
      "614/614 [==============================] - 3s 4ms/step - loss: -2030.7724 - accuracy: 0.0000e+00 - val_loss: -2035.8748 - val_accuracy: 0.0000e+00\n",
      "Epoch 48/100\n",
      "614/614 [==============================] - 3s 4ms/step - loss: -2029.6094 - accuracy: 0.0000e+00 - val_loss: -2035.8748 - val_accuracy: 0.0000e+00\n",
      "Epoch 49/100\n",
      "614/614 [==============================] - 3s 4ms/step - loss: -2032.1922 - accuracy: 0.0000e+00 - val_loss: -2035.8748 - val_accuracy: 0.0000e+00\n",
      "Epoch 50/100\n",
      "614/614 [==============================] - 3s 4ms/step - loss: -2031.3286 - accuracy: 0.0000e+00 - val_loss: -2035.8748 - val_accuracy: 0.0000e+00\n",
      "Epoch 51/100\n",
      "614/614 [==============================] - 3s 4ms/step - loss: -2029.9966 - accuracy: 0.0000e+00 - val_loss: -2035.8748 - val_accuracy: 0.0000e+00\n",
      "Epoch 52/100\n"
     ]
    },
    {
     "name": "stdout",
     "output_type": "stream",
     "text": [
      "614/614 [==============================] - 3s 4ms/step - loss: -2031.7260 - accuracy: 0.0000e+00 - val_loss: -2035.8748 - val_accuracy: 0.0000e+00\n",
      "Epoch 53/100\n",
      "614/614 [==============================] - 3s 5ms/step - loss: -2031.8611 - accuracy: 0.0000e+00 - val_loss: -2035.8748 - val_accuracy: 0.0000e+00\n",
      "Epoch 54/100\n",
      "614/614 [==============================] - 2s 3ms/step - loss: -2029.6838 - accuracy: 0.0000e+00 - val_loss: -2035.8748 - val_accuracy: 0.0000e+00\n",
      "Epoch 55/100\n",
      "614/614 [==============================] - 2s 3ms/step - loss: -2030.0110 - accuracy: 0.0000e+00 - val_loss: -2035.8748 - val_accuracy: 0.0000e+00\n",
      "Epoch 56/100\n",
      "614/614 [==============================] - 3s 4ms/step - loss: -2033.7620 - accuracy: 0.0000e+00 - val_loss: -2035.8748 - val_accuracy: 0.0000e+00\n",
      "Epoch 57/100\n",
      "614/614 [==============================] - 2s 3ms/step - loss: -2026.5681 - accuracy: 0.0000e+00 - val_loss: -2035.8748 - val_accuracy: 0.0000e+00\n",
      "Epoch 58/100\n",
      "614/614 [==============================] - 2s 4ms/step - loss: -2031.9644 - accuracy: 0.0000e+00 - val_loss: -2035.8748 - val_accuracy: 0.0000e+00\n",
      "Epoch 59/100\n",
      "614/614 [==============================] - 2s 4ms/step - loss: -2032.4734 - accuracy: 0.0000e+00 - val_loss: -2035.8748 - val_accuracy: 0.0000e+00\n",
      "Epoch 60/100\n",
      "614/614 [==============================] - 2s 3ms/step - loss: -2031.9245 - accuracy: 0.0000e+00 - val_loss: -2035.8748 - val_accuracy: 0.0000e+00\n",
      "Epoch 61/100\n",
      "614/614 [==============================] - 3s 4ms/step - loss: -2027.8349 - accuracy: 0.0000e+00 - val_loss: -2035.8748 - val_accuracy: 0.0000e+00\n",
      "Epoch 62/100\n",
      "614/614 [==============================] - 3s 4ms/step - loss: -2031.0255 - accuracy: 0.0000e+00 - val_loss: -2035.8748 - val_accuracy: 0.0000e+00\n",
      "Epoch 63/100\n",
      "614/614 [==============================] - 3s 4ms/step - loss: -2029.5038 - accuracy: 0.0000e+00 - val_loss: -2035.8748 - val_accuracy: 0.0000e+00\n",
      "Epoch 64/100\n",
      "614/614 [==============================] - 3s 5ms/step - loss: -2027.0285 - accuracy: 0.0000e+00 - val_loss: -2035.8748 - val_accuracy: 0.0000e+00\n",
      "Epoch 65/100\n",
      "614/614 [==============================] - 2s 3ms/step - loss: -2026.3379 - accuracy: 0.0000e+00 - val_loss: -2035.8748 - val_accuracy: 0.0000e+00\n",
      "Epoch 66/100\n",
      "614/614 [==============================] - 2s 3ms/step - loss: -2030.5468 - accuracy: 0.0000e+00 - val_loss: -2035.8748 - val_accuracy: 0.0000e+00\n",
      "Epoch 67/100\n",
      "614/614 [==============================] - 2s 3ms/step - loss: -2030.7099 - accuracy: 0.0000e+00 - val_loss: -2035.8748 - val_accuracy: 0.0000e+00\n",
      "Epoch 68/100\n",
      "614/614 [==============================] - 2s 3ms/step - loss: -2033.4266 - accuracy: 0.0000e+00 - val_loss: -2035.8748 - val_accuracy: 0.0000e+00\n",
      "Epoch 69/100\n",
      "614/614 [==============================] - 2s 4ms/step - loss: -2029.0818 - accuracy: 0.0000e+00 - val_loss: -2035.8748 - val_accuracy: 0.0000e+00\n",
      "Epoch 70/100\n",
      "614/614 [==============================] - 3s 5ms/step - loss: -2034.0251 - accuracy: 0.0000e+00 - val_loss: -2035.8748 - val_accuracy: 0.0000e+00\n",
      "Epoch 71/100\n",
      "614/614 [==============================] - 3s 4ms/step - loss: -2025.3625 - accuracy: 0.0000e+00 - val_loss: -2035.8748 - val_accuracy: 0.0000e+00\n",
      "Epoch 72/100\n",
      "614/614 [==============================] - 2s 3ms/step - loss: -2026.9034 - accuracy: 0.0000e+00 - val_loss: -2035.8748 - val_accuracy: 0.0000e+00\n",
      "Epoch 73/100\n",
      "614/614 [==============================] - 2s 4ms/step - loss: -2031.6597 - accuracy: 0.0000e+00 - val_loss: -2035.8748 - val_accuracy: 0.0000e+00\n",
      "Epoch 74/100\n",
      "614/614 [==============================] - 3s 4ms/step - loss: -2031.3044 - accuracy: 0.0000e+00 - val_loss: -2035.8748 - val_accuracy: 0.0000e+00\n",
      "Epoch 75/100\n",
      "614/614 [==============================] - 3s 4ms/step - loss: -2035.5607 - accuracy: 0.0000e+00 - val_loss: -2035.8748 - val_accuracy: 0.0000e+00\n",
      "Epoch 76/100\n",
      "614/614 [==============================] - 2s 4ms/step - loss: -2033.5664 - accuracy: 0.0000e+00 - val_loss: -2035.8748 - val_accuracy: 0.0000e+00\n",
      "Epoch 77/100\n",
      "614/614 [==============================] - 3s 4ms/step - loss: -2032.1446 - accuracy: 0.0000e+00 - val_loss: -2035.8748 - val_accuracy: 0.0000e+00\n",
      "Epoch 78/100\n",
      "614/614 [==============================] - 2s 4ms/step - loss: -2030.2734 - accuracy: 0.0000e+00 - val_loss: -2035.8748 - val_accuracy: 0.0000e+00\n",
      "Epoch 79/100\n",
      "614/614 [==============================] - 3s 4ms/step - loss: -2032.4164 - accuracy: 0.0000e+00 - val_loss: -2035.8748 - val_accuracy: 0.0000e+00\n",
      "Epoch 80/100\n",
      "614/614 [==============================] - 2s 2ms/step - loss: -2032.0754 - accuracy: 0.0000e+00 - val_loss: -2035.8748 - val_accuracy: 0.0000e+00\n",
      "Epoch 81/100\n",
      "614/614 [==============================] - 2s 3ms/step - loss: -2027.6547 - accuracy: 0.0000e+00 - val_loss: -2035.8748 - val_accuracy: 0.0000e+00\n",
      "Epoch 82/100\n",
      "614/614 [==============================] - 2s 4ms/step - loss: -2025.2363 - accuracy: 0.0000e+00 - val_loss: -2035.8748 - val_accuracy: 0.0000e+00\n",
      "Epoch 83/100\n",
      "614/614 [==============================] - 2s 4ms/step - loss: -2031.5838 - accuracy: 0.0000e+00 - val_loss: -2035.8748 - val_accuracy: 0.0000e+00\n",
      "Epoch 84/100\n",
      "614/614 [==============================] - 2s 3ms/step - loss: -2034.7539 - accuracy: 0.0000e+00 - val_loss: -2035.8748 - val_accuracy: 0.0000e+00\n",
      "Epoch 85/100\n",
      "614/614 [==============================] - 3s 5ms/step - loss: -2035.3056 - accuracy: 0.0000e+00 - val_loss: -2035.8748 - val_accuracy: 0.0000e+00\n",
      "Epoch 86/100\n",
      "614/614 [==============================] - 3s 4ms/step - loss: -2028.3158 - accuracy: 0.0000e+00 - val_loss: -2035.8748 - val_accuracy: 0.0000e+00\n",
      "Epoch 87/100\n",
      "614/614 [==============================] - 2s 4ms/step - loss: -2029.6967 - accuracy: 0.0000e+00 - val_loss: -2035.8748 - val_accuracy: 0.0000e+00\n",
      "Epoch 88/100\n",
      "614/614 [==============================] - 1s 2ms/step - loss: -2029.8888 - accuracy: 0.0000e+00 - val_loss: -2035.8748 - val_accuracy: 0.0000e+00\n",
      "Epoch 89/100\n",
      "614/614 [==============================] - 2s 4ms/step - loss: -2032.2579 - accuracy: 0.0000e+00 - val_loss: -2035.8748 - val_accuracy: 0.0000e+00\n",
      "Epoch 90/100\n",
      "614/614 [==============================] - 2s 3ms/step - loss: -2033.7618 - accuracy: 0.0000e+00 - val_loss: -2035.8748 - val_accuracy: 0.0000e+00\n",
      "Epoch 91/100\n",
      "614/614 [==============================] - 2s 3ms/step - loss: -2026.0275 - accuracy: 0.0000e+00 - val_loss: -2035.8748 - val_accuracy: 0.0000e+00\n",
      "Epoch 92/100\n",
      "614/614 [==============================] - 2s 3ms/step - loss: -2031.7522 - accuracy: 0.0000e+00 - val_loss: -2035.8748 - val_accuracy: 0.0000e+00\n",
      "Epoch 93/100\n",
      "614/614 [==============================] - 2s 3ms/step - loss: -2031.4189 - accuracy: 0.0000e+00 - val_loss: -2035.8748 - val_accuracy: 0.0000e+00\n",
      "Epoch 94/100\n",
      "614/614 [==============================] - 2s 3ms/step - loss: -2032.2284 - accuracy: 0.0000e+00 - val_loss: -2035.8748 - val_accuracy: 0.0000e+00\n",
      "Epoch 95/100\n",
      "614/614 [==============================] - 2s 3ms/step - loss: -2031.5156 - accuracy: 0.0000e+00 - val_loss: -2035.8748 - val_accuracy: 0.0000e+00\n",
      "Epoch 96/100\n",
      "614/614 [==============================] - 2s 3ms/step - loss: -2031.3153 - accuracy: 0.0000e+00 - val_loss: -2035.8748 - val_accuracy: 0.0000e+00\n",
      "Epoch 97/100\n",
      "614/614 [==============================] - 2s 3ms/step - loss: -2033.4896 - accuracy: 0.0000e+00 - val_loss: -2035.8748 - val_accuracy: 0.0000e+00\n",
      "Epoch 98/100\n",
      "614/614 [==============================] - 2s 2ms/step - loss: -2031.3973 - accuracy: 0.0000e+00 - val_loss: -2035.8748 - val_accuracy: 0.0000e+00\n",
      "Epoch 99/100\n",
      "614/614 [==============================] - 2s 3ms/step - loss: -2029.1084 - accuracy: 0.0000e+00 - val_loss: -2035.8748 - val_accuracy: 0.0000e+00\n",
      "Epoch 100/100\n",
      "614/614 [==============================] - 2s 3ms/step - loss: -2031.8119 - accuracy: 0.0000e+00 - val_loss: -2035.8748 - val_accuracy: 0.0000e+00\n"
     ]
    }
   ],
   "source": [
    "# Fit the model #30% of test data\n",
    "history=model.fit(np.array(X_train),np.array(y_train),validation_split=0.3, epochs=100, batch_size=12)"
   ]
  },
  {
   "cell_type": "code",
   "execution_count": 31,
   "metadata": {},
   "outputs": [
    {
     "name": "stdout",
     "output_type": "stream",
     "text": [
      "141/141 [==============================] - 1s 5ms/step - loss: -2027.2655 - accuracy: 0.0000e+00\n",
      "accuracy: 0.00%\n"
     ]
    }
   ],
   "source": [
    "# evaluate the model\n",
    "scores = model.evaluate(X_test, y_test)\n",
    "print(\"%s: %.2f%%\" % (model.metrics_names[1], scores[1]*100))"
   ]
  },
  {
   "cell_type": "code",
   "execution_count": 32,
   "metadata": {},
   "outputs": [],
   "source": [
    "#As we get 0.0% accuracy which is too less\n",
    "#we will build a new model using different loss function and different optimizer."
   ]
  },
  {
   "cell_type": "markdown",
   "metadata": {},
   "source": [
    "# Build another model"
   ]
  },
  {
   "cell_type": "code",
   "execution_count": 33,
   "metadata": {},
   "outputs": [],
   "source": [
    "model1 = Sequential()\n",
    "model1.add(Dense(16, input_dim=10, activation='relu'))\n",
    "model1.add(Dense(12, activation='relu'))\n",
    "model1.add(Dense(1, activation='linear'))"
   ]
  },
  {
   "cell_type": "code",
   "execution_count": 37,
   "metadata": {},
   "outputs": [],
   "source": [
    "# Compile model\n",
    "model1.compile(loss='mean_squared_error', optimizer='adam', metrics=['mse'])"
   ]
  },
  {
   "cell_type": "code",
   "execution_count": 38,
   "metadata": {},
   "outputs": [
    {
     "name": "stdout",
     "output_type": "stream",
     "text": [
      "Epoch 1/100\n",
      "614/614 [==============================] - 4s 4ms/step - loss: 2.1290 - mse: 2.1290 - val_loss: 1.8640 - val_mse: 1.8640\n",
      "Epoch 2/100\n",
      "614/614 [==============================] - 2s 3ms/step - loss: 1.5173 - mse: 1.5173 - val_loss: 0.9313 - val_mse: 0.9313\n",
      "Epoch 3/100\n",
      "614/614 [==============================] - 2s 3ms/step - loss: 1.3956 - mse: 1.3956 - val_loss: 0.9477 - val_mse: 0.9477\n",
      "Epoch 4/100\n",
      "614/614 [==============================] - 2s 3ms/step - loss: 1.3176 - mse: 1.3176 - val_loss: 0.9299 - val_mse: 0.9299\n",
      "Epoch 5/100\n",
      "614/614 [==============================] - 1s 2ms/step - loss: 1.3331 - mse: 1.3331 - val_loss: 1.0503 - val_mse: 1.0503\n",
      "Epoch 6/100\n",
      "614/614 [==============================] - 2s 3ms/step - loss: 1.5593 - mse: 1.5593 - val_loss: 0.9275 - val_mse: 0.9275\n",
      "Epoch 7/100\n",
      "614/614 [==============================] - 3s 4ms/step - loss: 1.3600 - mse: 1.3600 - val_loss: 0.9146 - val_mse: 0.9146\n",
      "Epoch 8/100\n",
      "614/614 [==============================] - 1s 2ms/step - loss: 1.5850 - mse: 1.5850 - val_loss: 0.9278 - val_mse: 0.9278\n",
      "Epoch 9/100\n",
      "614/614 [==============================] - 2s 3ms/step - loss: 1.3234 - mse: 1.3234 - val_loss: 0.9930 - val_mse: 0.9930\n",
      "Epoch 10/100\n",
      "614/614 [==============================] - 2s 3ms/step - loss: 1.4146 - mse: 1.4146 - val_loss: 1.9200 - val_mse: 1.9200\n",
      "Epoch 11/100\n",
      "614/614 [==============================] - 1s 2ms/step - loss: 1.5360 - mse: 1.5360 - val_loss: 0.9544 - val_mse: 0.9544\n",
      "Epoch 12/100\n",
      "614/614 [==============================] - 1s 2ms/step - loss: 1.2526 - mse: 1.2526 - val_loss: 0.9207 - val_mse: 0.9207\n",
      "Epoch 13/100\n",
      "614/614 [==============================] - 2s 3ms/step - loss: 1.3493 - mse: 1.3493 - val_loss: 1.0338 - val_mse: 1.0338\n",
      "Epoch 14/100\n",
      "614/614 [==============================] - 2s 4ms/step - loss: 1.4593 - mse: 1.4593 - val_loss: 0.9456 - val_mse: 0.9456\n",
      "Epoch 15/100\n",
      "614/614 [==============================] - 2s 3ms/step - loss: 1.4266 - mse: 1.4266 - val_loss: 0.9374 - val_mse: 0.9374\n",
      "Epoch 16/100\n",
      "614/614 [==============================] - 2s 3ms/step - loss: 1.5354 - mse: 1.5354 - val_loss: 0.9321 - val_mse: 0.9321\n",
      "Epoch 17/100\n",
      "614/614 [==============================] - 2s 3ms/step - loss: 1.4249 - mse: 1.4249 - val_loss: 1.0599 - val_mse: 1.0599\n",
      "Epoch 18/100\n",
      "614/614 [==============================] - 2s 3ms/step - loss: 1.3694 - mse: 1.3694 - val_loss: 0.9485 - val_mse: 0.9485\n",
      "Epoch 19/100\n",
      "614/614 [==============================] - 2s 4ms/step - loss: 1.6085 - mse: 1.6085 - val_loss: 0.9670 - val_mse: 0.9670\n",
      "Epoch 20/100\n",
      "614/614 [==============================] - 2s 4ms/step - loss: 1.2841 - mse: 1.2841 - val_loss: 1.4359 - val_mse: 1.4359\n",
      "Epoch 21/100\n",
      "614/614 [==============================] - 1s 2ms/step - loss: 1.3368 - mse: 1.3368 - val_loss: 1.8837 - val_mse: 1.8837\n",
      "Epoch 22/100\n",
      "614/614 [==============================] - 2s 3ms/step - loss: 1.3614 - mse: 1.3614 - val_loss: 0.9407 - val_mse: 0.9407\n",
      "Epoch 23/100\n",
      "614/614 [==============================] - 3s 4ms/step - loss: 1.2536 - mse: 1.2536 - val_loss: 0.9115 - val_mse: 0.9115\n",
      "Epoch 24/100\n",
      "614/614 [==============================] - 1s 2ms/step - loss: 1.3071 - mse: 1.3071 - val_loss: 1.0095 - val_mse: 1.0095\n",
      "Epoch 25/100\n",
      "614/614 [==============================] - 2s 3ms/step - loss: 1.4028 - mse: 1.4028 - val_loss: 1.2655 - val_mse: 1.2655\n",
      "Epoch 26/100\n",
      "614/614 [==============================] - 2s 3ms/step - loss: 1.3374 - mse: 1.3374 - val_loss: 1.4211 - val_mse: 1.4211\n",
      "Epoch 27/100\n",
      "614/614 [==============================] - 2s 3ms/step - loss: 1.3642 - mse: 1.3642 - val_loss: 1.4280 - val_mse: 1.4280\n",
      "Epoch 28/100\n",
      "614/614 [==============================] - 2s 3ms/step - loss: 1.4364 - mse: 1.4364 - val_loss: 1.0222 - val_mse: 1.0222\n",
      "Epoch 29/100\n",
      "614/614 [==============================] - 2s 3ms/step - loss: 1.4403 - mse: 1.4403 - val_loss: 1.1966 - val_mse: 1.1966\n",
      "Epoch 30/100\n",
      "614/614 [==============================] - 2s 3ms/step - loss: 1.2265 - mse: 1.2265 - val_loss: 0.9604 - val_mse: 0.9604\n",
      "Epoch 31/100\n",
      "614/614 [==============================] - 2s 3ms/step - loss: 1.4755 - mse: 1.4755 - val_loss: 1.2307 - val_mse: 1.2307\n",
      "Epoch 32/100\n",
      "614/614 [==============================] - 2s 3ms/step - loss: 1.3171 - mse: 1.3171 - val_loss: 1.6105 - val_mse: 1.6105\n",
      "Epoch 33/100\n",
      "614/614 [==============================] - 1s 2ms/step - loss: 1.4328 - mse: 1.4328 - val_loss: 1.7890 - val_mse: 1.7890\n",
      "Epoch 34/100\n",
      "614/614 [==============================] - 2s 3ms/step - loss: 1.3986 - mse: 1.3986 - val_loss: 0.9072 - val_mse: 0.9072\n",
      "Epoch 35/100\n",
      "614/614 [==============================] - 2s 3ms/step - loss: 1.4286 - mse: 1.4286 - val_loss: 1.1535 - val_mse: 1.1535\n",
      "Epoch 36/100\n",
      "614/614 [==============================] - 3s 4ms/step - loss: 1.3465 - mse: 1.3465 - val_loss: 0.9635 - val_mse: 0.9635\n",
      "Epoch 37/100\n",
      "614/614 [==============================] - 3s 4ms/step - loss: 1.4150 - mse: 1.4150 - val_loss: 0.9684 - val_mse: 0.9684\n",
      "Epoch 38/100\n",
      "614/614 [==============================] - 2s 4ms/step - loss: 1.3625 - mse: 1.3625 - val_loss: 1.2933 - val_mse: 1.2933\n",
      "Epoch 39/100\n",
      "614/614 [==============================] - 2s 4ms/step - loss: 1.4303 - mse: 1.4303 - val_loss: 0.9044 - val_mse: 0.9044\n",
      "Epoch 40/100\n",
      "614/614 [==============================] - 2s 3ms/step - loss: 1.4585 - mse: 1.4585 - val_loss: 0.9103 - val_mse: 0.9103\n",
      "Epoch 41/100\n",
      "614/614 [==============================] - 2s 3ms/step - loss: 1.4405 - mse: 1.4405 - val_loss: 0.9112 - val_mse: 0.9112\n",
      "Epoch 42/100\n",
      "614/614 [==============================] - 3s 4ms/step - loss: 1.3178 - mse: 1.3178 - val_loss: 1.0659 - val_mse: 1.0659\n",
      "Epoch 43/100\n",
      "614/614 [==============================] - 2s 3ms/step - loss: 1.2904 - mse: 1.2904 - val_loss: 1.3638 - val_mse: 1.3638\n",
      "Epoch 44/100\n",
      "614/614 [==============================] - 2s 4ms/step - loss: 1.3552 - mse: 1.3552 - val_loss: 1.4673 - val_mse: 1.4673\n",
      "Epoch 45/100\n",
      "614/614 [==============================] - 3s 4ms/step - loss: 1.3181 - mse: 1.3181 - val_loss: 1.3483 - val_mse: 1.3483\n",
      "Epoch 46/100\n",
      "614/614 [==============================] - 3s 4ms/step - loss: 1.4070 - mse: 1.4070 - val_loss: 1.3680 - val_mse: 1.3680\n",
      "Epoch 47/100\n",
      "614/614 [==============================] - 2s 4ms/step - loss: 1.3566 - mse: 1.3566 - val_loss: 2.7130 - val_mse: 2.7130\n",
      "Epoch 48/100\n",
      "614/614 [==============================] - 2s 3ms/step - loss: 1.4517 - mse: 1.4517 - val_loss: 1.4204 - val_mse: 1.4204\n",
      "Epoch 49/100\n",
      "614/614 [==============================] - 2s 3ms/step - loss: 1.2841 - mse: 1.2841 - val_loss: 1.7818 - val_mse: 1.7818\n",
      "Epoch 50/100\n",
      "614/614 [==============================] - 3s 4ms/step - loss: 1.3440 - mse: 1.3440 - val_loss: 0.9346 - val_mse: 0.9346\n",
      "Epoch 51/100\n",
      "614/614 [==============================] - 3s 4ms/step - loss: 1.2315 - mse: 1.2315 - val_loss: 1.7101 - val_mse: 1.7101\n",
      "Epoch 52/100\n",
      "614/614 [==============================] - 3s 4ms/step - loss: 1.5627 - mse: 1.5627 - val_loss: 0.9046 - val_mse: 0.9046\n",
      "Epoch 53/100\n",
      "614/614 [==============================] - 2s 4ms/step - loss: 1.3245 - mse: 1.3245 - val_loss: 0.9003 - val_mse: 0.9003\n",
      "Epoch 54/100\n",
      "614/614 [==============================] - 3s 4ms/step - loss: 1.3981 - mse: 1.3981 - val_loss: 1.1585 - val_mse: 1.1585\n",
      "Epoch 55/100\n",
      "614/614 [==============================] - 2s 4ms/step - loss: 1.2268 - mse: 1.2268 - val_loss: 0.9379 - val_mse: 0.9379\n",
      "Epoch 56/100\n",
      "614/614 [==============================] - 2s 4ms/step - loss: 1.3955 - mse: 1.3955 - val_loss: 1.3354 - val_mse: 1.3354\n",
      "Epoch 57/100\n",
      "614/614 [==============================] - 2s 4ms/step - loss: 1.2628 - mse: 1.2628 - val_loss: 1.4018 - val_mse: 1.4018\n",
      "Epoch 58/100\n",
      "614/614 [==============================] - 2s 4ms/step - loss: 1.5547 - mse: 1.5547 - val_loss: 0.9686 - val_mse: 0.9686\n",
      "Epoch 59/100\n",
      "614/614 [==============================] - 3s 4ms/step - loss: 1.3586 - mse: 1.3586 - val_loss: 0.8880 - val_mse: 0.8880\n",
      "Epoch 60/100\n",
      "614/614 [==============================] - 3s 4ms/step - loss: 1.1840 - mse: 1.1840 - val_loss: 0.9366 - val_mse: 0.9366\n",
      "Epoch 61/100\n",
      "614/614 [==============================] - 2s 4ms/step - loss: 1.3773 - mse: 1.3773 - val_loss: 1.2894 - val_mse: 1.2894\n",
      "Epoch 62/100\n"
     ]
    },
    {
     "name": "stdout",
     "output_type": "stream",
     "text": [
      "614/614 [==============================] - 2s 4ms/step - loss: 1.2809 - mse: 1.2809 - val_loss: 1.3730 - val_mse: 1.3730\n",
      "Epoch 63/100\n",
      "614/614 [==============================] - 2s 3ms/step - loss: 1.3288 - mse: 1.3288 - val_loss: 0.9258 - val_mse: 0.9258\n",
      "Epoch 64/100\n",
      "614/614 [==============================] - 2s 3ms/step - loss: 1.3298 - mse: 1.3298 - val_loss: 1.1654 - val_mse: 1.1654\n",
      "Epoch 65/100\n",
      "614/614 [==============================] - 2s 4ms/step - loss: 1.3942 - mse: 1.3942 - val_loss: 1.6106 - val_mse: 1.6106\n",
      "Epoch 66/100\n",
      "614/614 [==============================] - 2s 4ms/step - loss: 1.3098 - mse: 1.3098 - val_loss: 1.5451 - val_mse: 1.5451\n",
      "Epoch 67/100\n",
      "614/614 [==============================] - 2s 3ms/step - loss: 1.4013 - mse: 1.4013 - val_loss: 0.8575 - val_mse: 0.8575\n",
      "Epoch 68/100\n",
      "614/614 [==============================] - 2s 4ms/step - loss: 1.2504 - mse: 1.2504 - val_loss: 0.8544 - val_mse: 0.8544\n",
      "Epoch 69/100\n",
      "614/614 [==============================] - 2s 4ms/step - loss: 1.0908 - mse: 1.0908 - val_loss: 1.4387 - val_mse: 1.4387\n",
      "Epoch 70/100\n",
      "614/614 [==============================] - 2s 3ms/step - loss: 1.2575 - mse: 1.2575 - val_loss: 1.1525 - val_mse: 1.1525\n",
      "Epoch 71/100\n",
      "614/614 [==============================] - 2s 3ms/step - loss: 1.1320 - mse: 1.1320 - val_loss: 2.1208 - val_mse: 2.1208\n",
      "Epoch 72/100\n",
      "614/614 [==============================] - 2s 3ms/step - loss: 1.1876 - mse: 1.1876 - val_loss: 0.8327 - val_mse: 0.8327\n",
      "Epoch 73/100\n",
      "614/614 [==============================] - 2s 3ms/step - loss: 1.1674 - mse: 1.1674 - val_loss: 1.8218 - val_mse: 1.8218\n",
      "Epoch 74/100\n",
      "614/614 [==============================] - 2s 3ms/step - loss: 1.1352 - mse: 1.1352 - val_loss: 1.1616 - val_mse: 1.1616\n",
      "Epoch 75/100\n",
      "614/614 [==============================] - 2s 3ms/step - loss: 1.0781 - mse: 1.0781 - val_loss: 1.1694 - val_mse: 1.1694\n",
      "Epoch 76/100\n",
      "614/614 [==============================] - 1s 2ms/step - loss: 1.2650 - mse: 1.2650 - val_loss: 1.3595 - val_mse: 1.3595\n",
      "Epoch 77/100\n",
      "614/614 [==============================] - 2s 3ms/step - loss: 1.0984 - mse: 1.0984 - val_loss: 0.7614 - val_mse: 0.7614\n",
      "Epoch 78/100\n",
      "614/614 [==============================] - 3s 4ms/step - loss: 1.1293 - mse: 1.1293 - val_loss: 0.8876 - val_mse: 0.8876\n",
      "Epoch 79/100\n",
      "614/614 [==============================] - 2s 3ms/step - loss: 1.1537 - mse: 1.1537 - val_loss: 1.2730 - val_mse: 1.2730\n",
      "Epoch 80/100\n",
      "614/614 [==============================] - 2s 3ms/step - loss: 1.1621 - mse: 1.1621 - val_loss: 0.8444 - val_mse: 0.8444\n",
      "Epoch 81/100\n",
      "614/614 [==============================] - 2s 3ms/step - loss: 1.1710 - mse: 1.1710 - val_loss: 0.7494 - val_mse: 0.7494\n",
      "Epoch 82/100\n",
      "614/614 [==============================] - 2s 4ms/step - loss: 1.1652 - mse: 1.1652 - val_loss: 0.7920 - val_mse: 0.7920\n",
      "Epoch 83/100\n",
      "614/614 [==============================] - 2s 4ms/step - loss: 1.0402 - mse: 1.0402 - val_loss: 1.4356 - val_mse: 1.4356\n",
      "Epoch 84/100\n",
      "614/614 [==============================] - 2s 4ms/step - loss: 1.2097 - mse: 1.2097 - val_loss: 1.2732 - val_mse: 1.2732\n",
      "Epoch 85/100\n",
      "614/614 [==============================] - 2s 4ms/step - loss: 1.2298 - mse: 1.2298 - val_loss: 0.8131 - val_mse: 0.8131\n",
      "Epoch 86/100\n",
      "614/614 [==============================] - 2s 3ms/step - loss: 1.2111 - mse: 1.2111 - val_loss: 1.4992 - val_mse: 1.4992\n",
      "Epoch 87/100\n",
      "614/614 [==============================] - 3s 4ms/step - loss: 1.0242 - mse: 1.0242 - val_loss: 0.7497 - val_mse: 0.7497\n",
      "Epoch 88/100\n",
      "614/614 [==============================] - 2s 4ms/step - loss: 1.0474 - mse: 1.0474 - val_loss: 0.9199 - val_mse: 0.9199\n",
      "Epoch 89/100\n",
      "614/614 [==============================] - 3s 4ms/step - loss: 1.1838 - mse: 1.1838 - val_loss: 1.9384 - val_mse: 1.9384\n",
      "Epoch 90/100\n",
      "614/614 [==============================] - 2s 3ms/step - loss: 1.2223 - mse: 1.2223 - val_loss: 0.8480 - val_mse: 0.8480\n",
      "Epoch 91/100\n",
      "614/614 [==============================] - 2s 3ms/step - loss: 1.1519 - mse: 1.1519 - val_loss: 0.7063 - val_mse: 0.7063\n",
      "Epoch 92/100\n",
      "614/614 [==============================] - 2s 3ms/step - loss: 1.0599 - mse: 1.0599 - val_loss: 1.2111 - val_mse: 1.2111\n",
      "Epoch 93/100\n",
      "614/614 [==============================] - 2s 4ms/step - loss: 1.2382 - mse: 1.2382 - val_loss: 0.9458 - val_mse: 0.9458\n",
      "Epoch 94/100\n",
      "614/614 [==============================] - 2s 4ms/step - loss: 0.9996 - mse: 0.9996 - val_loss: 1.1650 - val_mse: 1.1650\n",
      "Epoch 95/100\n",
      "614/614 [==============================] - 2s 4ms/step - loss: 1.0019 - mse: 1.0019 - val_loss: 0.7161 - val_mse: 0.7161\n",
      "Epoch 96/100\n",
      "614/614 [==============================] - 2s 3ms/step - loss: 1.2108 - mse: 1.2108 - val_loss: 1.3256 - val_mse: 1.3256\n",
      "Epoch 97/100\n",
      "614/614 [==============================] - 2s 3ms/step - loss: 0.9724 - mse: 0.9724 - val_loss: 1.0162 - val_mse: 1.0162\n",
      "Epoch 98/100\n",
      "614/614 [==============================] - 2s 3ms/step - loss: 1.1288 - mse: 1.1288 - val_loss: 0.9359 - val_mse: 0.9359\n",
      "Epoch 99/100\n",
      "614/614 [==============================] - 2s 4ms/step - loss: 1.0445 - mse: 1.0445 - val_loss: 1.3708 - val_mse: 1.3708\n",
      "Epoch 100/100\n",
      "614/614 [==============================] - 3s 4ms/step - loss: 1.0375 - mse: 1.0375 - val_loss: 0.9995 - val_mse: 0.9995\n"
     ]
    }
   ],
   "source": [
    "# Fit the model #30% of test data\n",
    "history2=model1.fit(np.array(X_train),np.array(y_train),validation_split=0.3, epochs=100, batch_size=12)"
   ]
  },
  {
   "cell_type": "code",
   "execution_count": 41,
   "metadata": {},
   "outputs": [
    {
     "name": "stdout",
     "output_type": "stream",
     "text": [
      "141/141 [==============================] - 1s 3ms/step - loss: 1.0437 - mse: 1.0437\n",
      "mse: 104.37%\n"
     ]
    }
   ],
   "source": [
    "# evaluate the model\n",
    "scores = model1.evaluate(X_test, y_test)\n",
    "print(\"%s: %.2f%%\" % (model1.metrics_names[1], scores[1]*100))"
   ]
  },
  {
   "cell_type": "code",
   "execution_count": 43,
   "metadata": {},
   "outputs": [
    {
     "data": {
      "text/plain": [
       "dict_keys(['loss', 'mse', 'val_loss', 'val_mse'])"
      ]
     },
     "execution_count": 43,
     "metadata": {},
     "output_type": "execute_result"
    }
   ],
   "source": [
    "history2.history.keys()"
   ]
  },
  {
   "cell_type": "code",
   "execution_count": 46,
   "metadata": {},
   "outputs": [
    {
     "data": {
      "image/png": "[encoded data removed]",
      "text/plain": [
       "<Figure size 432x288 with 1 Axes>"
      ]
     },
     "metadata": {
      "needs_background": "light"
     },
     "output_type": "display_data"
    }
   ],
   "source": [
    "# summarize history for accuracy\n",
    "import matplotlib.pyplot as plt\n",
    "%matplotlib inline\n",
    "plt.plot(history2.history['mse'])\n",
    "plt.plot(history2.history['val_mse'])\n",
    "plt.title('model accuracy')\n",
    "plt.ylabel('mse')\n",
    "plt.xlabel('epoch')\n",
    "plt.legend(['train', 'test'], loc='upper left')\n",
    "plt.show()"
   ]
  },
  {
   "cell_type": "code",
   "execution_count": null,
   "metadata": {},
   "outputs": [],
   "source": []
  }
 ],
 "metadata": {
  "kernelspec": {
   "display_name": "Python 3",
   "language": "python",
   "name": "python3"
  },
  "language_info": {
   "codemirror_mode": {
    "name": "ipython",
    "version": 3
   },
   "file_extension": ".py",
   "mimetype": "text/x-python",
   "name": "python",
   "nbconvert_exporter": "python",
   "pygments_lexer": "ipython3",
   "version": "3.8.5"
  }
 },
 "nbformat": 4,
 "nbformat_minor": 4
}
